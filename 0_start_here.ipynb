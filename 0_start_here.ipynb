{
 "metadata": {
  "kernelspec": {
   "display_name": "Streamlit Notebook",
   "name": "streamlit"
  },
  "lastEditStatus": {
   "notebookId": "x2tpptz3hxh3zt3u3gk5",
   "authorId": "3259853274975",
   "authorName": "MSTELLWALL",
   "authorEmail": "mats.stellwall@snowflake.com",
   "sessionId": "c3e8c14c-a655-4814-b163-c0b1d0f3eb93",
   "lastEditTime": 1739535767836
  }
 },
 "nbformat_minor": 5,
 "nbformat": 4,
 "cells": [
  {
   "cell_type": "code",
   "id": "b4de75e0-d371-4c67-b1a3-c88a542ec88f",
   "metadata": {
    "language": "python",
    "name": "py_streamlit_import"
   },
   "outputs": [],
   "source": "import streamlit as st",
   "execution_count": null
  },
  {
   "cell_type": "code",
   "id": "8b3e3fe0-c477-42c5-a3e3-554712bd9647",
   "metadata": {
    "language": "python",
    "name": "py_headline",
    "collapsed": false,
    "codeCollapsed": false
   },
   "outputs": [],
   "source": "st.markdown(\"\"\"\n<div style=\"background-color: #000020; color: white; text-align: center; padding: 20px\">\n  <h1 style=\"margin: 0; color: white\"><b>Questioning the Answers: LLMs enter the Boardroom</b></h1>\n  <h2 style=\"margin: 0; color: white\"><b></b>Using Gen AI Tools to Harness Alpha from Earnings Calls</h2>\n  <h3 style=\"margin: 0; color: white\"><b>by S&P Global Market Intelligence's Quantitative Research & Solutions (QRS) Group</b></h3>\n</div>\n\"\"\", unsafe_allow_html=True)",
   "execution_count": null
  },
  {
   "cell_type": "markdown",
   "id": "04b2912a-e563-47a2-8731-7bba38772e76",
   "metadata": {
    "name": "md_1_overview",
    "collapsed": false
   },
   "source": "# 1. Overview\nEarnings calls play a pivotal role in shaping investor perceptions. The quality of communication between executives and analysts can significantly influence company performance. On-topic and proactive exeutives, who deliver proactive presentations, anticipate market queries, and provide clear, on-topic answers to analysts’ questions—consistently outperform their peers. Conversely, off-topic and reactive executives, who fail to address analysts’ key inquiries during presentations, and provide off-topic responses—significantly underperform.\n\nExecutives' ability to anticipate investor concerns and maintain a focused dialogue fosters confidence and strategic communication. In contrast, failing to provide clarity when analysts seek additional information can lead to misalignment and breakdowns in transparency. A long (short) portfolio of on-topic and proactive (off-topic and reactive) generates +515bps of annualized alpha.\n\nThis notebook serves as a introduction for the research detailed in Quantitative Research & Solutions’ recent publication, [\"Questioninig the Answers: LLM's enter the Boardroom.\"](https://www.spglobal.com/market-intelligence/en/news-insights/research/questioning-the-answers-llms-enter-the-boardroom) IIt analyse executive on-topicness and proactiveness using the analysts questions, executives answers and LLM answers. This research harness alpha using LLM tools, including vector embeddings, vector cosine similarity, and the LLM quesiton answering. There is a longer version avalible upon request that also covers how to create the input data from the datasets described in section 2, please reach out to QRS@spglobal.com for access to the longer version."
  },
  {
   "cell_type": "markdown",
   "id": "f5a4c140-634d-4a3d-9db3-bf2febbbbafc",
   "metadata": {
    "name": "md_2_datasets",
    "collapsed": false
   },
   "source": "# 2. Datasets\n\nThe [\"Questioninig the Answers: LLM's enter the Boardroom.\"](https://www.spglobal.com/market-intelligence/en/news-insights/research/questioning-the-answers-llms-enter-the-boardroom) research is using the datasets below from the Snowflake Marketplace. Access to those are not neccessary for running this QuickStart, where we are using a sample datase.\n\nTo reproduce the full research using the complete datasets then request access to those below using the links or contact SnowflakeMarketplace@spglobal.com.\n\n|Name|Description |\n|----|----|\n|[ S&P Capital IQ Financials](https://app.snowflake.com/marketplace/listing/GZT0Z8P3D2N/s-p-global-market-intelligence-s-p-capital-iq-financials)|S&P Capital IQ Financials provides global standardized financial statement data for over 180,000 companies, including over 95,000 active and inactive public companies, and As Reported data for over 150,000 companies. S&P Capital IQ Standardized Financials allows you to extend the scope of your historical analysis and back-testing models with consistent data from all filings of a company's historical financial periods including press releases, original filings, and all restatements.|\n|[Global Events](https://app.snowflake.com/marketplace/listing/GZT0Z8P3D38/s-p-global-market-intelligence-global-events)|The Global Events dataset provides details on upcoming and past corporate events such as earnings calls, shareholder/analyst meetings, expected earnings release dates and more. With deep history back to 2003, clients can leverage this dataset to derive signals and support trading models across asset classes, trading styles and frequencies. This dataset also helps in research & analysis, risk management & compliance, and trade surveillance workflows.|\n|[Machine Readable Transcripts](https://app.snowflake.com/marketplace/listing/GZT0Z8P3D2V/s-p-global-market-intelligence-machine-readable-transcripts)|The Machine Readable Transcripts dataset aggregates data from earnings calls delivered in a machine-readable format for Natural Language Processing (NLP) applications with metadata tagging. Leverage Machine Readable Transcripts to keep track of event information for specific companies including dates, times, dial-in and replay numbers and investor relations contact information. Easily combine data from earnings, M&A, guidance, shareholder, company conference presentations and special calls with traditional datasets to develop proprietary analytics."|\n|
  },
  {
   "cell_type": "markdown",
   "id": "fa040835-3299-4600-b06f-9a47ff3312f7",
   "metadata": {
    "name": "md_3_libraries",
    "collapsed": false
   },
   "source": "# 3. Libraries & User Inputs\nImport libraries required for the workflow\n\n## 3.1 Libraries\n\nBefore running, mak sure you have added **cachetools** through **packages**"
  },
  {
   "cell_type": "code",
   "id": "3775908f-ca36-4846-8f38-5adca39217f2",
   "metadata": {
    "language": "python",
    "name": "py_imports",
    "codeCollapsed": false,
    "collapsed": false
   },
   "source": "# Import python packages\nfrom datetime import datetime\nimport cachetools\n\nfrom snowflake.snowpark import functions as snow_funcs\nfrom snowflake.snowpark import Window\nfrom snowflake.snowpark.types import ArrayType, StringType\n\nfrom snowflake.snowpark.context import get_active_session\nsession = get_active_session()",
   "execution_count": null,
   "outputs": []
  },
  {
   "cell_type": "markdown",
   "id": "c4187b8f-34a3-402c-8c63-96623f676453",
   "metadata": {
    "name": "md_32_user_inputs",
    "collapsed": false
   },
   "source": "## 3.2 User Inputs\n\nThis research invloves the usage of an embedding model and a completion model, the default models were set to \"snowflake-arctic-embed-m\" for embedding and \"llama3.1-8b\" for completion. This user input section gives you the flexibility to chose your own model for the task."
  },
  {
   "cell_type": "code",
   "id": "fe9edb8d-b06e-4394-acd8-ba517c9b98d6",
   "metadata": {
    "language": "python",
    "name": "py_user_inputs",
    "collapsed": false
   },
   "outputs": [],
   "source": "# Which of the two embedding functions we want to use\nsnf_embed_text_func = \"SNOWFLAKE.CORTEX.EMBED_TEXT_768\" \n\n# Which embedding model we want to use, see https://docs.snowflake.com/en/user-guide/snowflake-cortex/llm-functions#availability \n# for avalible embedding models in Snowflake\nembedding_model = \"snowflake-arctic-embed-m\" \n\n# Which LLM we want to use, see https://docs.snowflake.com/en/user-guide/snowflake-cortex/llm-functions#availability \n# for avalible LLMs in Snowflake\ncompletion_model = \"llama3.1-8b\" \n\n# Name of the databse created in the Setup Snowflake step\nsp_llm_qs_location = \"SP_LLM_QS.PUBLIC\"\n",
   "execution_count": null
  },
  {
   "cell_type": "markdown",
   "id": "46d68789-dc5f-4bb6-ba5f-dbe16efe1546",
   "metadata": {
    "name": "md_4_Sentence_Tokenization",
    "collapsed": false
   },
   "source": "# 4. S&P Global Q4 2024 Earnings Call Transcript\n\nThe dataset we are going to use are the prepared remarks, questions and answers sections of the S&P Global Q4 2024 Earnings Call. They have been tokenized on sentence level."
  },
  {
   "cell_type": "code",
   "id": "23a192d1-0605-4fec-94d8-341fe2bd03c5",
   "metadata": {
    "language": "sql",
    "name": "sql_check_source",
    "collapsed": false
   },
   "outputs": [],
   "source": "SELECT * FROM {{sp_llm_qs_location}}.SAMPLE_TRANSCRIPT ORDER BY COMPONENTORDER ASC, SENTENCEORDER ASC LIMIT 50",
   "execution_count": null
  },
  {
   "cell_type": "markdown",
   "id": "4ed66a3e-f47b-4e7a-92b6-ffd992018e02",
   "metadata": {
    "name": "md_5_RAG",
    "collapsed": false
   },
   "source": "# 5. Working with the Data: Retrival Augmented Generation (RAG)\nRetrieval-Augmented Generation (RAG) is a tool that improves LLM consistency by retrieving relevant information before answering a question.\n\nFor this task the LLM needs to be as consistent as possible in its responses to the analysts’ questions as inconsistency will lead to variations in cosine similarity scores and disrupt feature generation downstream.\n\nTo combat this, we designed a Retrieval-Augmented Generation (RAG) engine that chunks the prepared remarks sentence-by-sentence and retrieves the optimal retrieval percentage of sentences most similar to the question. Inconsistency occurs when the LLM is provided with too little (or too much) context, it becomes uninformed (unspecific). The optimal retrieval percentage for consistency is 60%.\n\nIn the cells below, we vector embed all questions, prepared remark sentences and answer sentences using the snowflake-arctic-m embedding model. Then use the cosine similarity from the (question vs prepared remark sentences) and (question vs answer sentences) to select top 60% most relevant prepared remark and answer sentences to the question from S&P Global Q4 2024 Earnings Call Transcript\n\n## 5.1 S&P Global Q4 2024 Earnings Call Transcript\nSelect and seperate the prepared remarks, questions and answers sections of the S&P Global Q4 2024 Earnings Call"
  },
  {
   "cell_type": "code",
   "id": "164a0ce9-7d9e-40f2-b412-d0058ca3abcd",
   "metadata": {
    "language": "python",
    "name": "py_get_remarks_questions_answers",
    "collapsed": false
   },
   "outputs": [],
   "source": "all_component_df = session.table(f\"{sp_llm_qs_location}.SAMPLE_TRANSCRIPT\")\n\npppSentences = all_component_df.filter(snow_funcs.col('transcriptComponentTypeId') == 2) \nquestions = all_component_df.filter(snow_funcs.col('transcriptComponentTypeId') == 3)\nanswerSentences = all_component_df.filter(snow_funcs.col('transcriptComponentTypeId') == 4) \n\nst.dataframe(pppSentences.limit(5))\nst.dataframe(questions.limit(5))\nst.dataframe(answerSentences.limit(5))",
   "execution_count": null
  },
  {
   "cell_type": "markdown",
   "id": "7a7838f1-a7b4-430b-bc2f-e1fd32af6e44",
   "metadata": {
    "name": "md_52_Vector_Embedding",
    "collapsed": false
   },
   "source": "## 5.2 Vector Embedding\nTransform the questions, prepared remark sentences and answer sentences into numerical\nrepresentations using the snowflake-arctic-m embedding model.\n\n### 5.2.2 Apply Embedding to Transcript Components"
  },
  {
   "cell_type": "code",
   "id": "2b5eb4ac-7f94-48da-91b9-a407f3bdb5ca",
   "metadata": {
    "language": "python",
    "name": "py_create_components_embeddings",
    "collapsed": false
   },
   "outputs": [],
   "source": "snf_embed_text = snow_funcs.function(snf_embed_text_func)\n\npppSentences_with_embeddings = pppSentences.withColumn(\"sentenceVec\", snf_embed_text(snow_funcs.lit(embedding_model)\n                                                                                     ,pppSentences[\"PROCESSEDTEXT\"]))\nquestions_with_embeddings = questions.withColumn(\"questionVec\", snf_embed_text(snow_funcs.lit(embedding_model),\n                                                                                    questions[\"PROCESSEDTEXT\"]))\nanswerSentences_with_embeddings = answerSentences.withColumn(\"sentenceVec\",  snf_embed_text(snow_funcs.lit(embedding_model)\n                                                                                            ,answerSentences[\"PROCESSEDTEXT\"]))\n\npppSentences_with_embeddings.write.save_as_table(f\"{sp_llm_qs_location}.pppSentencesVec\", mode=\"overwrite\",table_type='transient')\nquestions_with_embeddings.write.save_as_table(f\"{sp_llm_qs_location}.questionsVec\", mode=\"overwrite\", table_type='transient')\nanswerSentences_with_embeddings.write.save_as_table(f\"{sp_llm_qs_location}.answerSentencesVec\", mode=\"overwrite\", table_type='transient')",
   "execution_count": null
  },
  {
   "cell_type": "markdown",
   "id": "aca42ae7-a9b7-4713-8c91-ee5148ef347c",
   "metadata": {
    "name": "md_53_Cosine_Similarity",
    "collapsed": false
   },
   "source": "# 5.3 Cosine Similarity\nTo determine semantic closeness, we vector-embed the question-and-answer texts and calculate a cosine similarity score between the two vectors.\nFor example, A and B each represent a vector such that:\n\n\n$$\tA = [a_1,a_2,… a_n] $$\n$$\tB = [b_1,b_2,… b_n] $$\n\n\nThe cosine similarity formula between vectors A and B is:\n\n$$\\text{Cosine Similarity} = \\frac{\\mathbf{A} \\cdot \\mathbf{B}}{\\|\\mathbf{A}\\| \\cdot \\|\\mathbf{B}\\|}$$\n\n, where A⋅B is the dot product of the vectors, and |A|⋅|B| is the product of each vector's magnitude.\nThe result ranges from -1 to 1, where:\n\n\t-1: Vectors are opposite.\n\t0: Vectors are unrelated.\n\t1: Vectors are identical.\n\n### 5.3.2 Apply Cosine Similarity to Question & Answer Vector Embeddings\nThe cell below creates question and answer pair by collecting all the answer sentences whose componentOrder is between the currentQuestionComponentOrder and the nextQuestionComponentOrder. Then the the consine similarity was applied to the question and answer sentence vector embeddings."
  },
  {
   "cell_type": "code",
   "id": "0d879dde-2ff3-43da-bef4-493cd3621347",
   "metadata": {
    "language": "python",
    "name": "py_calc_cosine_sim_QA",
    "collapsed": false
   },
   "outputs": [],
   "source": "df = session.sql(f\"\"\"\n\nwith q as(\n    select \n        callDate, enteredDate, fiscalYearQuarter, calendarYearQuarter,\n        tradingItemId, companyId, companyName, headline, transcriptId,\n        speakerTypeName as questionSpeakerTypeName, transcriptPersonName as questionTranscriptPersonName,\n        transcriptPersonId as questionTranscriptPersonId, proId as questionProId, transcriptComponentTypeId as questionTranscriptComponentTypeId,\n        transcriptComponentId as questionTranscriptComponentId, componentOrder as currentQuestionOrder\n        , lead(componentOrder) over (partition by tradingItemId, transcriptId order by componentOrder) as nextQuestionOrder\n        , processedText as question, questionVec\n    from {sp_llm_qs_location}.questionsVec\n    where 1=1\n        and transcriptComponentTypeId = 3\n)\nselect \n    q.callDate, q.enteredDate, q.fiscalYearQuarter, q.calendarYearQuarter,\n    q.tradingItemId, q.companyId, q.companyName, q.headline, q.transcriptId,\n    q.questionSpeakerTypeName, q.questionTranscriptPersonName, q.questionTranscriptPersonId, q.questionProId, \n    a.speakerTypeName as answerSpeakerTypeName, a.transcriptPersonName as answerTranscriptPersonName, a.transcriptPersonId as answerTranscriptPersonId, a.proId as answerProId, \n    q.questionTranscriptComponentTypeId, a.transcriptComponentTypeId as answerTranscriptComponentTypeId,\n    q.questionTranscriptComponentId, a.transcriptComponentId as answerTranscriptComponentId,\n    q.currentQuestionOrder, q.nextQuestionOrder, a.componentOrder as answerOrder, a.sentenceOrder as answerSentenceOrder,\n    q.question, a.componentText as answer, a.processedText as answerSentence, q.questionVec, a.sentenceVec as answerSentenceVec\n    , VECTOR_COSINE_SIMILARITY(questionVec, sentenceVec) AS cosine_similarity\nfrom q\n    join {sp_llm_qs_location}.answerSentencesVec a on q.tradingItemId = a.tradingItemId and q.transcriptId = a.transcriptId and a.componentOrder between q.currentQuestionOrder and ifnull(q.nextQuestionOrder, 10000)\norder by q.nextQuestionOrder asc, a.componentOrder asc, a.sentenceOrder asc\n\n\"\"\")\n\ndf.write.save_as_table(f\"{sp_llm_qs_location}.TranscriptComponents_qaPairCos\", mode=\"overwrite\", table_type='transient')\ndf.limit(5)",
   "execution_count": null
  },
  {
   "cell_type": "markdown",
   "id": "87af385b-50e0-4574-b7cf-5ededd2124fb",
   "metadata": {
    "name": "md_533_cosine_sim_q_prep_remarks",
    "collapsed": false
   },
   "source": "### 5.3.3 Apply Cosine Similarity to Question & Prepared Remarks Vector Embeddings\nThe cell below pairs all prepared remarks sentences to questions. Then the the consine similarity was applied to the question and prepared remarks sentence vector embeddings."
  },
  {
   "cell_type": "code",
   "id": "05c85911-dbe1-4011-944c-340631482f72",
   "metadata": {
    "language": "python",
    "name": "py_calc_cosine_sim_q_prep_remark",
    "collapsed": false
   },
   "outputs": [],
   "source": "df = session.sql(f\"\"\"\n\nwith q as(\n    select \n        callDate, enteredDate, fiscalYearQuarter, calendarYearQuarter,\n        tradingItemId, companyId, companyName, headline, transcriptId,\n        speakerTypeName as questionSpeakerTypeName, transcriptPersonName as questionTranscriptPersonName,\n        transcriptPersonId as questionTranscriptPersonId, proId as questionProId, transcriptComponentTypeId as questionTranscriptComponentTypeId,\n        transcriptComponentId as questionTranscriptComponentId, componentOrder as currentQuestionOrder, lead(componentOrder) over (partition by tradingItemId, transcriptId order by componentOrder) as nextQuestionOrder, \n        processedText as question, questionVec\n    from {sp_llm_qs_location}.questionsVec\n    where 1=1\n        and transcriptComponentTypeId = 3\n)\nselect \n    q.*, \n    p.componentOrder as executiveRemarkComponentOrder, p.sentenceOrder as executiveRemarkSentenceOrder,\n    p.componentText as executiveRemark, p.processedText as executiveSentence, p.sentenceVec as executiveVec,\n    VECTOR_COSINE_SIMILARITY(questionVec, p.sentenceVec) as similarity\nfrom q\n    join {sp_llm_qs_location}.pppSentencesVec p on q.tradingItemId = p.tradingItemId and q.transcriptId = p.transcriptId\n\norder by q.nextQuestionOrder asc, p.componentOrder asc, p.sentenceOrder asc\n\n\"\"\")\n\ndf.write.save_as_table(f\"{sp_llm_qs_location}.TranscriptComponents_pppQPairCos\", mode=\"overwrite\", table_type='transient')\ndf.limit(5)",
   "execution_count": null
  },
  {
   "cell_type": "markdown",
   "id": "50df1066-d89b-42ad-b7b9-ae16a5e4b409",
   "metadata": {
    "name": "md_54_top60_sentences",
    "collapsed": false
   },
   "source": "## 5.4 Top 60% Sentences\nUtilizing the top 60% of prepared remarks identified as generating the most consistent LLM output. For further details on the experiment, please refer to the 'LLM Robustness Check' section in the whitepaper.\n\n### 5.4.2 Concat Top 60% Answer Sentences\nAfter selecting the top 60% most similar answer sentences, we concat the answer sentences on the question level."
  },
  {
   "cell_type": "code",
   "id": "333f44d6-4e82-46a3-8faa-7962e287ea87",
   "metadata": {
    "language": "python",
    "name": "py_concat_top_60_answers",
    "collapsed": false
   },
   "outputs": [],
   "source": "\ndf = session.sql(f'''\n          \nwith qaSimilarityRank as(\n    select \n        *, \n        ROW_NUMBER() OVER (PARTITION BY tradingItemId, transcriptId, currentQuestionOrder, currentQuestionOrder ORDER BY cosine_similarity desc) AS similarityRank,\n        COUNT(*) OVER (PARTITION BY tradingItemId, transcriptId, currentQuestionOrder, currentQuestionOrder) AS answerSentencesCount \n    from {sp_llm_qs_location}.TranscriptComponents_qaPairCos \n    ), \n    questionWithSixtyPercentAnswers as(\n\n    select \n        *, \n        case \n            when answerSentencesCount = 1 then 1\n            when similarityRank <= answerSentencesCount * 0.67 then 1\n            else 0\n        end as toKeepFlag\n    from qaSimilarityRank\n\n    ),\n    qaPair60 as(\n    select\n        callDate, enteredDate, fiscalYearQuarter, calendarYearQuarter, tradingItemId, companyId, companyName\n        , headline, transcriptId, questionSpeakerTypeName, questionTranscriptPersonName, questionTranscriptPersonId\n        , questionProId, answerSpeakerTypeName, answerTranscriptPersonName, answerTranscriptPersonId, answerProId\n        , questionTranscriptComponentTypeId, answerTranscriptComponentTypeId, questionTranscriptComponentId\n        , answerTranscriptComponentId, currentQuestionOrder, nextQuestionOrder, answerOrder, question, answer, \n        ARRAY_TO_STRING(ARRAY_AGG(answerSentence), ' ') AS sixtyPercentAnswer\n    from (select * from questionWithSixtyPercentAnswers where toKeepFlag = 1 order by currentQuestionOrder asc, answerOrder asc, answerSentenceOrder asc)\n    group by callDate, enteredDate, fiscalYearQuarter, calendarYearQuarter, tradingItemId, companyId, companyName, headline, transcriptId, questionSpeakerTypeName, questionTranscriptPersonName, questionTranscriptPersonId, questionProId, answerSpeakerTypeName, answerTranscriptPersonName, answerTranscriptPersonId, answerProId, questionTranscriptComponentTypeId, answerTranscriptComponentTypeId, questionTranscriptComponentId, answerTranscriptComponentId, currentQuestionOrder, nextQuestionOrder, answerOrder, question, answer)\n    select \n        callDate, enteredDate, fiscalYearQuarter, calendarYearQuarter, tradingItemId, companyId, companyName, headline, transcriptId, questionSpeakerTypeName, questionTranscriptPersonName, questionTranscriptPersonId, questionProId, answerSpeakerTypeName, answerTranscriptPersonName, answerTranscriptPersonId, answerProId, questionTranscriptComponentTypeId, answerTranscriptComponentTypeId, questionTranscriptComponentId, answerTranscriptComponentId, currentQuestionOrder, nextQuestionOrder, answerOrder, \n        question, answer\n        , SNOWFLAKE.CORTEX.COUNT_TOKENS('{completion_model}',answer) as answerTokenCount\n        , sixtyPercentAnswer\n        , SNOWFLAKE.CORTEX.COUNT_TOKENS('{completion_model}',sixtyPercentAnswer) as sixtyPercentAnswerTokenCount\n    from qaPair60\n    order by currentQuestionOrder asc, answerOrder asc\n              \n''')\n\ndf.write.save_as_table(f\"{sp_llm_qs_location}.TranscriptComponents_qaPairTop60\", mode=\"overwrite\", table_type='transient')\ndf.limit(5)",
   "execution_count": null
  },
  {
   "cell_type": "markdown",
   "id": "fa16aa95-4ae8-4df0-95a2-d1f9ed43f30f",
   "metadata": {
    "name": "md_543_concat_top60_prep_remarks",
    "collapsed": false
   },
   "source": "### 5.4.3 Concat Top 60% Prepared Remarks Sentences\nSimilarly, after selecting the top 60% most similar prepared remarks sentences, we concat the prepared remarks sentences on the question level."
  },
  {
   "cell_type": "code",
   "id": "d9d72152-56ec-48e6-918a-668638042c6b",
   "metadata": {
    "language": "python",
    "name": "cell41",
    "collapsed": false
   },
   "outputs": [],
   "source": "\ndf = session.sql(f'''\n\nwith qaSimilarityRank as(\nselect \n    *, \n    ROW_NUMBER() OVER (PARTITION BY tradingItemId, transcriptId, currentQuestionOrder ORDER BY similarity desc) AS similarityRank,\n    COUNT(*) OVER (PARTITION BY tradingItemId, transcriptId, currentQuestionOrder) AS executiveRemarksSentencesCount\nfrom {sp_llm_qs_location}.TranscriptComponents_pppQPairCos\n),\n\npppQPairTop60 as(\nselect \n    *, \n    case \n        when executiveRemarksSentencesCount = 1 then 1\n        when similarityRank <= executiveRemarksSentencesCount * 0.67 then 1\n        else 0\n    end as toKeepFlag\nfrom qaSimilarityRank),\n\npresenterLevelSixtyPercentPPP as(\nselect\n    callDate, enteredDate, fiscalYearQuarter, calendarYearQuarter, tradingItemId, companyId, companyName, headline, transcriptId, questionSpeakerTypeName, questionTranscriptPersonName, questionTranscriptPersonId, questionProId, questionTranscriptComponentTypeId, questionTranscriptComponentId, currentQuestionOrder, nextQuestionOrder, executiveRemarkComponentOrder, question, executiveRemark, \n    ARRAY_TO_STRING(ARRAY_AGG(executiveSentence), ' ') AS sixtyPercentExecutiveRemark\nfrom (select * from pppQPairTop60 where toKeepFlag = 1 order by currentQuestionOrder asc, executiveRemarkComponentOrder asc, executiveRemarkSentenceOrder asc)\ngroup by callDate, enteredDate, fiscalYearQuarter, calendarYearQuarter, tradingItemId, companyId, companyName, headline, transcriptId, questionSpeakerTypeName, questionTranscriptPersonName, questionTranscriptPersonId, questionProId, questionTranscriptComponentTypeId, questionTranscriptComponentId, currentQuestionOrder, nextQuestionOrder, executiveRemarkComponentOrder, question, executiveRemark\norder by currentQuestionOrder asc,  executiveRemarkComponentOrder asc),\n\npppQPairTop60Concat as(\nselect \n\n    callDate, enteredDate, fiscalYearQuarter, calendarYearQuarter, tradingItemId, companyId, companyName, headline, transcriptId, questionSpeakerTypeName, questionTranscriptPersonName, questionTranscriptPersonId, questionProId, questionTranscriptComponentTypeId, questionTranscriptComponentId, currentQuestionOrder, nextQuestionOrder, question,\n    ARRAY_TO_STRING(ARRAY_AGG(executiveRemark), '\\n\\n') AS questionLevelConcatenatedRawExecutiveRemark,\n    ARRAY_TO_STRING(ARRAY_AGG(sixtyPercentExecutiveRemark), '\\n\\n') AS questionLevelConcatenatedSixtyPercentExecutiveRemark\nfrom (select * from presenterLevelSixtyPercentPPP order by currentQuestionOrder asc,  executiveRemarkComponentOrder asc)\ngroup by callDate, enteredDate, fiscalYearQuarter, calendarYearQuarter, tradingItemId, companyId, companyName, headline, transcriptId, questionSpeakerTypeName, questionTranscriptPersonName, questionTranscriptPersonId, questionProId, questionTranscriptComponentTypeId, questionTranscriptComponentId, currentQuestionOrder, nextQuestionOrder, question\n)\n\nselect \n    callDate, enteredDate, fiscalYearQuarter, calendarYearQuarter, tradingItemId, companyId, companyName, headline, transcriptId, questionSpeakerTypeName, questionTranscriptPersonName, questionTranscriptPersonId, questionProId, questionTranscriptComponentTypeId, questionTranscriptComponentId, currentQuestionOrder, nextQuestionOrder, question,\n    questionLevelConcatenatedRawExecutiveRemark\n    , SNOWFLAKE.CORTEX.COUNT_TOKENS('{completion_model}',questionLevelConcatenatedRawExecutiveRemark) as questionLevelConcatenatedRawExecutiveRemarkTokenCount, questionLevelConcatenatedSixtyPercentExecutiveRemark\n    , SNOWFLAKE.CORTEX.COUNT_TOKENS('{completion_model}',questionLevelConcatenatedSixtyPercentExecutiveRemark) as questionLevelConcatenatedSixtyPercentExecutiveRemarkTokenCount\nfrom pppQPairTop60Concat\norder by currentQuestionOrder asc\n\n''')\n\ndf.write.save_as_table(f\"{sp_llm_qs_location}.TranscriptComponents_pppQPairTop60\", mode=\"overwrite\", table_type='transient')\ndf.limit(5)",
   "execution_count": null
  },
  {
   "cell_type": "markdown",
   "id": "2ddb0cf0-76c9-49f2-bab2-41de606b73ce",
   "metadata": {
    "name": "md_6_llm_ready_data",
    "collapsed": false
   },
   "source": "# 6. Working with the Data: LLM Ready Data\n\nUsing a LLM to answer analysts questions based only on the prepared remarks and the previous questions and answers will give an indication if executives are proactive.\n\n## 6.1 Using Snowflake Cortex AI\nWhen calling the Snowflake Cortex COMPLETE function, messages are organized into distinct roles—system, user, and assistant—to structure and guide interactions. Each role serves a specific purpose:\n\nSystem: Provides instructions that define the context or behavior of the model. It's like setting the rules or tone for the conversation. Example: \"You are a helpful assistant that answers questions about technology in a concise manner.\"\n\nUser: Represents the input or queries made by the person interacting with the model. These are the prompts or requests that the model responds to. Example: \"What is the purpose of the OpenAI API?\"\n\nAssistant: Reflects the model's response to the user's query, shaped by the system's instructions and the user's input. Example: \"The OpenAI API is designed to enable developers to integrate language models into their applications for tasks like answering questions, generating content, and more.\"\n\nIn our research, executive prepared remarks are labelled as assistant messages, analyst's questions as User messages and executive answers as Assistant messages\n\n### 6.1.1 Construct COMPLETE Assistant Message with QA Pair Snippet"
  },
  {
   "cell_type": "code",
   "id": "ee6e5fe0-f534-4ee3-91fe-ae46983f0e1d",
   "metadata": {
    "language": "python",
    "name": "py_construct_QA_pair_snippet"
   },
   "outputs": [],
   "source": "df = session.sql(f'''\n\nwith questionWithSixtyPercentAnswersPromptSnippet as (\nselect\n    *, \n    OBJECT_CONSTRUCT('role', 'user', 'content', REPLACE(question, '\\r', '')) as questionPromptSnippet,\n    OBJECT_CONSTRUCT('role', 'assistant', 'content', REPLACE(sixtyPercentAnswer, '\\r', '')) as answerPromptSnippet\n    \nfrom {sp_llm_qs_location}.TranscriptComponents_qaPairTop60)\nselect \n    *, ARRAY_CONSTRUCT(questionPromptSnippet, answerPromptSnippet) as questionAnswerPairPromptSnippet \nfrom questionWithSixtyPercentAnswersPromptSnippet\norder by currentQuestionOrder asc, answerOrder asc\n\n''')\n\n\ndf.write.save_as_table(f\"{sp_llm_qs_location}.TranscriptComponents_pppQPairTop60AnswerConcat\", mode=\"overwrite\", table_type='transient')\ndf.limit(5)\n",
   "execution_count": null
  },
  {
   "cell_type": "markdown",
   "id": "3e3b400f-8459-48d4-980f-ab4b99582361",
   "metadata": {
    "name": "md_612_construct_complete_prompt",
    "collapsed": false
   },
   "source": "### 6.1.2 Construct Snowflake Cortex COMPLETE Assistant Message with Prepared Remarks Snippets"
  },
  {
   "cell_type": "code",
   "id": "36b8a7cf-1219-43b6-8b3d-3360973f8c1e",
   "metadata": {
    "language": "python",
    "name": "py_generate_assistan_messages"
   },
   "outputs": [],
   "source": "df = session.sql(f'''\n\nselect\n    *,\n    OBJECT_CONSTRUCT('role', 'user', 'content', REPLACE(question, '\\r', '')) as questionPromptSnippet,\n    OBJECT_CONSTRUCT('role', 'assistant', 'content', REPLACE(questionLevelConcatenatedSixtyPercentExecutiveRemark, '\\r', '')) as pppPromptSnippet\nfrom {sp_llm_qs_location}.TranscriptComponents_pppQPairTop60\n\n''')\n\ndf.write.save_as_table(f\"{sp_llm_qs_location}.TranscriptComponents_pppQPairTop60PPPConcat\", mode=\"overwrite\", table_type='transient')\ndf.limit(5)",
   "execution_count": null
  },
  {
   "cell_type": "markdown",
   "id": "b8652c71-32ee-4f1e-9972-24f0a47cb5b7",
   "metadata": {
    "name": "md_collect_complete_messages",
    "collapsed": false
   },
   "source": "## 6.2 Collect All Messages for Cortex COMPLETE\nAll question pairs with prepare remarks and answers come together to form an LLM prompt following the iterative process such that:\n\n1. 'user': 'From the perspective of a top executive, please answer the following question raised by a financial analyst during an earnings conference call. Knowledge cutoff date: '  \n2. 'assistant': 60% prepared remarks  \n3. 'user': question 1  \n4. 'assistant': 60% answer 1  \n5. ...  \n6. ...  \n7. 'user': question n  \n\n### 6.2.1 LLM Ready Prompt Messages\nIn the dataframe below, the prompt column has all the messages in 1 list. This is the prompt for the LLM."
  },
  {
   "cell_type": "code",
   "id": "9fd9ee2a-5d11-4c02-a8a6-27d28d27f0e6",
   "metadata": {
    "language": "python",
    "name": "py_construct_full_prompt",
    "collapsed": false
   },
   "outputs": [],
   "source": "df = session.sql(f'''\n    with pppQPairTop60PPPConcat\n    as\n    (\n    select \n         a.callDate, a.tradingItemId, a.transcriptId, a.headline, \n        a.questionTranscriptPersonName, a.questionTranscriptPersonId, a.questionProId,\n        a.answerTranscriptPersonName, a.answerTranscriptPersonId, a.answerProId,\n        a.questionTranscriptComponentId, a.answerTranscriptComponentId,\n        a.question, a.answer,\n        ARRAY_CONSTRUCT(object_construct('role', 'user', 'content', concat('From the perspective of a top executive, please answer the following question raised by a financial analyst during an earnings conference call. Knowledge cutoff date: ', cast(a.callDate as string)))) as initPrompt,\n       a.questionPromptSnippet,\n       ARRAY_FLATTEN(ARRAY_AGG(a.questionAnswerPairPromptSnippet) OVER (PARTITION BY a.TRANSCRIPTID ORDER BY a.CURRENTQUESTIONORDER \n                                                        ROWS BETWEEN UNBOUNDED PRECEDING AND 1 PRECEDING)) as concatenatedPredecessors\n     from {sp_llm_qs_location}.TranscriptComponents_pppQPairTop60AnswerConcat a\n    )\n    select a.* \n        , ARRAY_CAT(a.initPrompt, ARRAY_CAT([ppp.pppPromptSnippet], ARRAY_CAT(a.concatenatedPredecessors, [a.questionPromptSnippet]))) as prompt\n    from \n    pppQPairTop60PPPConcat a\n    join {sp_llm_qs_location}.TranscriptComponents_pppQPairTop60PPPConcat as ppp on a.tradingItemId = ppp.tradingItemId and a.transcriptId = ppp.transcriptId and a.questionTranscriptComponentId = ppp.questionTranscriptComponentId\n    order by a.questionTranscriptComponentId asc, a.answerTranscriptComponentId asc\n''')\n\ndf.write.save_as_table(f\"{sp_llm_qs_location}.TranscriptComponents_targetLLMReadyPrompt\", mode=\"overwrite\", table_type='transient')\ndf.limit(5)\n",
   "execution_count": null
  },
  {
   "cell_type": "markdown",
   "id": "c509c9a6-2350-4293-9acc-1fb5c540830e",
   "metadata": {
    "name": "md_63_collect_COMPLETE_responses",
    "collapsed": false
   },
   "source": "## 6.3 Collect LLM Response\n\n### 6.3.1 Apply LLM Completion\nWe apply the SNOWFLAKE.CORTEX.COMPLETE function on the prompt column using the model defined by `completion_model`and collect the LLM response."
  },
  {
   "cell_type": "code",
   "id": "ca81a278-6b25-4b8c-9345-93bb753d9aff",
   "metadata": {
    "language": "python",
    "name": "py_call_complete",
    "collapsed": false
   },
   "outputs": [],
   "source": "df = session.sql(f\"\"\"\n\n    select *,  SNOWFLAKE.CORTEX.COMPLETE('{completion_model}', prompt, {{'temperature': 0}}) as LLMAnswer \n    from {sp_llm_qs_location}.TranscriptComponents_targetLLMReadyPrompt\n          \n\"\"\")\n\ndf.write.save_as_table(f\"{sp_llm_qs_location}.TranscriptComponents_targetLLMAnswer\", mode=\"overwrite\", table_type='transient')\ndf.limit(5)",
   "execution_count": null
  },
  {
   "cell_type": "markdown",
   "id": "0035b140-240c-45bd-8d0a-e51764d0a3eb",
   "metadata": {
    "name": "md_632_clean_up_LLM_responses",
    "collapsed": false
   },
   "source": "### 6.3.2 Clean Up LLM Response\n\nExtract only the actual message from the LLM from the responses"
  },
  {
   "cell_type": "code",
   "id": "62333d10-d5e7-48fa-8e0d-0aa93fb66e10",
   "metadata": {
    "language": "python",
    "name": "py_extract_message"
   },
   "outputs": [],
   "source": "df = session.sql(f\"\"\"\n\n    select \n        callDate, tradingItemId, transcriptId, headline, \n        questionTranscriptPersonName, questionTranscriptPersonId, questionProId, answerTranscriptPersonName, answerTranscriptPersonId, answerProId,\n        questionTranscriptComponentId, answerTranscriptComponentId, question, answer,\n        REPLACE(LLMANSWER: \"choices\"[0]: \"messages\", '\"', '') as cleanLLMAnswer \n    from {sp_llm_qs_location}.TranscriptComponents_targetLLMAnswer\n          \n\"\"\")\n\ndf.write.save_as_table(f\"{sp_llm_qs_location}.TranscriptComponents_targetLLMAnswer_Clean\", mode=\"overwrite\", table_type='transient')\ndf.limit(5)",
   "execution_count": null
  },
  {
   "cell_type": "markdown",
   "id": "fb29bb53-5a68-4d00-978a-6302b1eb16a8",
   "metadata": {
    "name": "md_64_summarize_text",
    "collapsed": false
   },
   "source": "## 6.4 Summarize Text\n\nUse the Snowflake Cortex Summarize function to summarize the question, answer and LLM answer"
  },
  {
   "cell_type": "code",
   "id": "6d5c15c2-52f1-4dc0-9a7d-2ea683ec2391",
   "metadata": {
    "language": "python",
    "name": "py_summarize",
    "codeCollapsed": false
   },
   "outputs": [],
   "source": "df = session.sql(f\"\"\"\n\n    select \n        *, \n        SNOWFLAKE.CORTEX.SUMMARIZE(question) as summarizeQuestion,\n        SNOWFLAKE.CORTEX.SUMMARIZE(answer) as summarizeAnswer,\n        SNOWFLAKE.CORTEX.SUMMARIZE(cleanLLMAnswer) as summarizeCleanLLMAnswer,\n    from {sp_llm_qs_location}.TranscriptComponents_targetLLMAnswer_Clean\n          \n\"\"\")\n\ndf.write.save_as_table(f\"{sp_llm_qs_location}.TranscriptComponents_targetLLMAnswer_Summarize\", mode=\"overwrite\", table_type='transient')\ndf.limit(5)",
   "execution_count": null
  },
  {
   "cell_type": "markdown",
   "id": "cde8c8fb-317d-40ec-b17b-a7efc118fc78",
   "metadata": {
    "name": "md_7_factor_construction",
    "collapsed": false
   },
   "source": "# 7. Working with the Data: Factor Construction\n## 7.1 Executive On/Off Topic Factor\nWhen an executive answer is semantically similar (dissimilar) to the analyst’s question, it suggests that the answer uses language and concepts similar to (different from) the analyst question, indicating it is on-topic (off-topic). To determine semantic closeness, we vector-embed the question-and-answer texts and calculate a cosine similarity score between the two vectors.\n\n### 7.1.1 Question vs Executive Answer Cosine Similarity"
  },
  {
   "cell_type": "code",
   "id": "ffc83173-e945-42e1-a8ce-3fe2785bd834",
   "metadata": {
    "language": "python",
    "name": "py_q_v_a_cosine_sim",
    "collapsed": false
   },
   "outputs": [],
   "source": "df = session.sql(f'''\n\n    with vec as(\n    select *\n        , {snf_embed_text_func}('{embedding_model}', summarizeQuestion) as questionVec\n        , {snf_embed_text_func}('{embedding_model}', summarizeAnswer) as answerVec \n    from {sp_llm_qs_location}.TranscriptComponents_targetLLMAnswer_Summarize\n    )\n    select *, VECTOR_COSINE_SIMILARITY(questionVec, answerVec) as execOnOffTopicFactor from vec \n               \n''')\n\ndf.write.save_as_table(f\"{sp_llm_qs_location}.TranscriptComponents_execOnOffTopicFactor\", mode=\"overwrite\", table_type='transient')\ndf.limit(5)",
   "execution_count": null
  },
  {
   "cell_type": "markdown",
   "id": "38be14f8-7a72-4aab-984c-43aa3e76ff97",
   "metadata": {
    "name": "md_712_mean_on_off_topic",
    "collapsed": false
   },
   "source": "### 7.1.2 Transcript Mean Executive On/Off Topic Factor\nCosine similarity scores are averaged at the transcript level. A high (low) Cosine Similarity Score indicates an On (Off) Topic Executive.\n\n"
  },
  {
   "cell_type": "code",
   "id": "9c2f2ed4-20eb-4ff6-a527-05c9362b066f",
   "metadata": {
    "language": "sql",
    "name": "sql_mean_on_off_topic"
   },
   "outputs": [],
   "source": "select avg(execOnOffTopicFactor) as transcriptLevelExecOnOffTopicFactor \nfrom {{sp_llm_qs_location}}.TranscriptComponents_execOnOffTopicFactor",
   "execution_count": null
  },
  {
   "cell_type": "markdown",
   "id": "916210b3-8d62-4bac-9a1a-13fbc0d08ffc",
   "metadata": {
    "name": "md_72_executive_pro_re_factor",
    "collapsed": false
   },
   "source": "## 7.2 Executive Proactive/Reactive Factor\n### 7.2.1 Question vs LLM Answer Cosine Similarity\nSince the LLM answers only within the context of information provided in the prepared remarks, a high (low) cosine similarity score indicates that the LLM answers are semantically similar (dissimilar) the questions, reflecting the executives are proactive (reactive)."
  },
  {
   "cell_type": "code",
   "id": "06d679e9-5849-44cd-b73a-595e4a9df160",
   "metadata": {
    "language": "python",
    "name": "py_q_llmA_cosine_sim"
   },
   "outputs": [],
   "source": "df = session.sql(f'''\n\n    with vec as(\n    select \n        *, \n        {snf_embed_text_func}('{embedding_model}', summarizeQuestion) as questionVec, \n        {snf_embed_text_func}('{embedding_model}', summarizeCleanLLMAnswer) as LLMAnswerVec \n    from {sp_llm_qs_location}.TranscriptComponents_targetLLMAnswer_Summarize\n    )\n    select *, VECTOR_COSINE_SIMILARITY(questionVec, LLMAnswerVec) as execProactiveReactiveFactor from vec \n               \n''')\n\ndf.write.save_as_table(f\"{sp_llm_qs_location}.TranscriptComponents_execProactiveReactiveFactor\", mode=\"overwrite\", table_type='transient')\ndf.limit(5)\n",
   "execution_count": null
  },
  {
   "cell_type": "markdown",
   "id": "5999994a-81e2-428f-ab24-4a5eeb72e150",
   "metadata": {
    "name": "md_722_mean_pro_re_factor",
    "collapsed": false
   },
   "source": "### 7.2.2 Transcript Mean Executive Proactive/Reactive Factor\nSimilar to the construction of the Executive On/Off Topic factor, both the LLM answers and questions are summarized, vector-embedded and cosine similarity scores are averaged at the transcript level."
  },
  {
   "cell_type": "code",
   "id": "79c48dfb-ca72-41ba-af86-d0f5975d6c48",
   "metadata": {
    "language": "sql",
    "name": "sql_mean_pro_re_factor",
    "collapsed": false
   },
   "outputs": [],
   "source": "select avg(execProactiveReactiveFactor) as transcriptLevelexecProactiveReactiveFactor \nfrom {{sp_llm_qs_location}}.TranscriptComponents_execProactiveReactiveFactor",
   "execution_count": null
  },
  {
   "cell_type": "markdown",
   "id": "9e4c3c21-f09e-4994-aa9a-1db01028f0d3",
   "metadata": {
    "name": "md_8_result_summary",
    "collapsed": false
   },
   "source": "# 8. Results & Summary\nThis research underscores the significant impact of executive communication styles during earnings calls on firm performance. Proactive executives who anticipate market concerns and provide concise, on-topic responses foster transparency, aligning with investor expectations and driving superior returns. The findings demonstrate that firms with Efficient Communicators achieve statistically significant outperformance, while Total Redirectors suffer from diminished confidence and underperformance. These insights validate the critical role of strategic communication in shaping investor perceptions and influencing market outcomes.\n\nAdvanced analytical tools, such as vector embeddings and cosine similarity metrics, enable nuanced evaluations of executive-analyst interactions, revealing measurable performance effects across different communication styles. While large language models (LLMs) enhance feature extraction, challenges like forward-looking bias and inconsistency highlight the need for caution in time-sensitive tasks. Overall, the integration of proactive, clear, and relevant communication strategies remains paramount in fostering investor trust and maximizing financial success in a competitive marketplace."
  }
 ]
}
